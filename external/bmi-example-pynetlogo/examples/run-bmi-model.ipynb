{
 "cells": [
  {
   "cell_type": "markdown",
   "metadata": {},
   "source": [
    "# Run the `HeatDiffusion` model through its BMI"
   ]
  },
  {
   "cell_type": "markdown",
   "metadata": {},
   "source": [
    "`HeatDiffusion` models the diffusion of temperature on a uniform rectangular plate with Dirichlet boundary conditions.\n",
    "Wrapping `HeatDiffusion` with a [Basic Model Interface](https://bmi.readthedocs.io) (BMI),\n",
    "lets you you control the model through a standard set of functions,\n",
    "so you don't have to know the details of how the model is run."
   ]
  },
  {
   "cell_type": "markdown",
   "metadata": {},
   "source": [
    "## Setup"
   ]
  },
  {
   "cell_type": "markdown",
   "metadata": {},
   "source": [
    "[NetLogo](https://ccl.northwestern.edu/netlogo/) is required to run this notebook.\n",
    "Once you've [downloaded and installed](https://ccl.northwestern.edu/netlogo/bind/article/getting-started-with-netlogo.html) NetLogo,\n",
    "edit the configuration file in the `examples` directory\n",
    "to set the path to the install location in the *netlogo_home* field.\n",
    "\n",
    "View the configuration file."
   ]
  },
  {
   "cell_type": "code",
   "execution_count": null,
   "metadata": {
    "tags": []
   },
   "outputs": [],
   "source": [
    "cat \"config.yaml\""
   ]
  },
  {
   "cell_type": "markdown",
   "metadata": {},
   "source": [
    "The current value of *netlogo_home* is where NetLogo is installed on the [EarthscapeHub](https://csdms.colorado.edu/wiki/JupyterHub) *lab* and *jupyter* Hubs."
   ]
  },
  {
   "cell_type": "markdown",
   "metadata": {},
   "source": [
    "Import the Python libraries we'll use below."
   ]
  },
  {
   "cell_type": "code",
   "execution_count": null,
   "metadata": {
    "tags": []
   },
   "outputs": [],
   "source": [
    "import numpy as np\n",
    "import matplotlib.pyplot as plt"
   ]
  },
  {
   "cell_type": "markdown",
   "metadata": {},
   "source": [
    "## Initialize the model"
   ]
  },
  {
   "cell_type": "markdown",
   "metadata": {},
   "source": [
    "Import the `HeatDiffusion` BMI."
   ]
  },
  {
   "cell_type": "code",
   "execution_count": null,
   "metadata": {
    "tags": []
   },
   "outputs": [],
   "source": [
    "from heat import BmiHeatDiffusion"
   ]
  },
  {
   "cell_type": "markdown",
   "metadata": {},
   "source": [
    "Make an instance of the model through its BMI."
   ]
  },
  {
   "cell_type": "code",
   "execution_count": null,
   "metadata": {
    "tags": []
   },
   "outputs": [],
   "source": [
    "m = BmiHeatDiffusion()"
   ]
  },
  {
   "cell_type": "markdown",
   "metadata": {},
   "source": [
    "Get the name of the model."
   ]
  },
  {
   "cell_type": "code",
   "execution_count": null,
   "metadata": {
    "tags": []
   },
   "outputs": [],
   "source": [
    "m.get_component_name()"
   ]
  },
  {
   "cell_type": "markdown",
   "metadata": {},
   "source": [
    "Initialize the model using parameter values from the configuration file."
   ]
  },
  {
   "cell_type": "code",
   "execution_count": null,
   "metadata": {
    "tags": []
   },
   "outputs": [],
   "source": [
    "m.initialize(\"config.yaml\")"
   ]
  },
  {
   "cell_type": "markdown",
   "metadata": {},
   "source": [
    "## Get model information"
   ]
  },
  {
   "cell_type": "markdown",
   "metadata": {},
   "source": [
    "List the model's input and output variables (also called \"exchange items\")."
   ]
  },
  {
   "cell_type": "code",
   "execution_count": null,
   "metadata": {
    "tags": []
   },
   "outputs": [],
   "source": [
    "print(\"Number of input variables:\", m.get_input_item_count())\n",
    "for var in m.get_input_var_names():\n",
    "    print(f\" - {var}\")"
   ]
  },
  {
   "cell_type": "code",
   "execution_count": null,
   "metadata": {
    "tags": []
   },
   "outputs": [],
   "source": [
    "print(\"Number of output variables:\", m.get_output_item_count())\n",
    "for var in m.get_output_var_names():\n",
    "    print(f\" - {var}\")"
   ]
  },
  {
   "cell_type": "markdown",
   "metadata": {},
   "source": [
    "The BMI exposes one output variable, `plate_surface__temperature`, that maps to the `temperature` variable in the Netlogo `HeatDiffusion` model.\n",
    "The long variable name is an example of a CSDMS [Standard Name](https://csdms.colorado.edu/wiki/CSDMS_Standard_Names).\n",
    "\n",
    "Get more information on the `plate_surface__temperature` variable."
   ]
  },
  {
   "cell_type": "code",
   "execution_count": null,
   "metadata": {
    "tags": []
   },
   "outputs": [],
   "source": [
    "var_name = m.get_output_var_names()[0]\n",
    "print(f\"Variable {var_name}\")\n",
    "print(\" - type:\", m.get_var_type(var_name))\n",
    "print(\" - units:\", m.get_var_units(var_name))\n",
    "print(\" - itemsize:\", m.get_var_itemsize(var_name))\n",
    "print(\" - nbytes:\", m.get_var_nbytes(var_name))\n",
    "print(\" - location:\", m.get_var_location(var_name))"
   ]
  },
  {
   "cell_type": "markdown",
   "metadata": {},
   "source": [
    "In a BMI, all variables are defined on grids.\n",
    "\n",
    "Get information about the grid used by the `plate_surface__temperature` variable."
   ]
  },
  {
   "cell_type": "code",
   "execution_count": null,
   "metadata": {
    "tags": []
   },
   "outputs": [],
   "source": [
    "grid_id = m.get_var_grid(var_name)\n",
    "print(\" - grid id:\", grid_id)\n",
    "print(\" - grid type:\", m.get_grid_type(grid_id))\n",
    "grid_rank = m.get_grid_rank(grid_id)\n",
    "print(\" - rank:\", grid_rank)\n",
    "grid_size = m.get_grid_size(grid_id)\n",
    "print(\" - size:\", grid_size)\n",
    "grid_shape = np.empty(grid_rank, dtype=np.int32)\n",
    "m.get_grid_shape(grid_id, grid_shape)\n",
    "print(\" - shape:\", grid_shape)\n",
    "grid_spacing = np.empty(grid_rank, dtype=np.float64)\n",
    "m.get_grid_spacing(grid_id, grid_spacing)\n",
    "print(\" - spacing:\", grid_spacing)\n",
    "grid_origin = np.empty(grid_rank, dtype=np.float64)\n",
    "m.get_grid_origin(grid_id, grid_origin)\n",
    "print(\" - origin:\", grid_origin)"
   ]
  },
  {
   "cell_type": "markdown",
   "metadata": {},
   "source": [
    "Get time information from the model."
   ]
  },
  {
   "cell_type": "code",
   "execution_count": null,
   "metadata": {
    "tags": []
   },
   "outputs": [],
   "source": [
    "print(\"Start time:\", m.get_start_time())\n",
    "print(\"End time:\", m.get_end_time())\n",
    "print(\"Current time:\", m.get_current_time())\n",
    "print(\"Time step:\", m.get_time_step())\n",
    "print(\"Time units:\", m.get_time_units())"
   ]
  },
  {
   "cell_type": "markdown",
   "metadata": {},
   "source": [
    "## View initial model state"
   ]
  },
  {
   "cell_type": "markdown",
   "metadata": {},
   "source": [
    "Get the initial temperature distribution on the plate."
   ]
  },
  {
   "cell_type": "code",
   "execution_count": null,
   "metadata": {
    "tags": []
   },
   "outputs": [],
   "source": [
    "val = np.empty(grid_size, dtype=m.get_var_type(var_name))\n",
    "m.get_value(var_name, val)\n",
    "print(f\"Temperature at time {m.get_current_time()}:\")\n",
    "val"
   ]
  },
  {
   "cell_type": "markdown",
   "metadata": {},
   "source": [
    "Note that the temperatures are returned as a one-dimensional NumPy array.\n",
    "\n",
    "As a metric, report the sum of the temperature values on the plate."
   ]
  },
  {
   "cell_type": "code",
   "execution_count": null,
   "metadata": {
    "tags": []
   },
   "outputs": [],
   "source": [
    "val.sum()"
   ]
  },
  {
   "cell_type": "markdown",
   "metadata": {},
   "source": [
    "Visualize the temperature values using the *plot_temperature* helper function.\n",
    "Note that the temperature array has to be redimensionalized."
   ]
  },
  {
   "cell_type": "code",
   "execution_count": null,
   "metadata": {
    "tags": []
   },
   "outputs": [],
   "source": [
    "from helpers import plot_temperature\n",
    "\n",
    "plot_temperature(val.reshape(grid_shape), plate_size=m.get_attribute(\"plate-size\"))"
   ]
  },
  {
   "cell_type": "markdown",
   "metadata": {},
   "source": [
    "## Run the model"
   ]
  },
  {
   "cell_type": "markdown",
   "metadata": {},
   "source": [
    "Advance the model one time step."
   ]
  },
  {
   "cell_type": "code",
   "execution_count": null,
   "metadata": {
    "tags": []
   },
   "outputs": [],
   "source": [
    "m.update()\n",
    "print(f\"Time: {m.get_current_time()} {m.get_time_units()}\")"
   ]
  },
  {
   "cell_type": "markdown",
   "metadata": {},
   "source": [
    "Have the temperature values changed?"
   ]
  },
  {
   "cell_type": "code",
   "execution_count": null,
   "metadata": {
    "tags": []
   },
   "outputs": [],
   "source": [
    "m.get_value(var_name, val)\n",
    "print(f\"Temperature at time {m.get_current_time()}:\", val)\n",
    "print(f\"Sum: {val.sum()} {m.get_var_units(var_name)}\")"
   ]
  },
  {
   "cell_type": "markdown",
   "metadata": {},
   "source": [
    "The sum shows that the plate has cooled slightly.\n",
    "\n",
    "Run the model to some distant time."
   ]
  },
  {
   "cell_type": "code",
   "execution_count": null,
   "metadata": {
    "tags": []
   },
   "outputs": [],
   "source": [
    "distant_time = 20.0\n",
    "while m.get_current_time() < distant_time:\n",
    "    m.update()\n",
    "print(f\"Time: {m.get_current_time()} {m.get_time_units()}\")"
   ]
  },
  {
   "cell_type": "markdown",
   "metadata": {},
   "source": [
    "How has the temperature field has evolved?"
   ]
  },
  {
   "cell_type": "code",
   "execution_count": null,
   "metadata": {
    "tags": []
   },
   "outputs": [],
   "source": [
    "m.get_value(var_name, val)\n",
    "print(f\"Temperature at time {m.get_current_time()}:\", val)\n",
    "print(f\"Sum: {val.sum()} {m.get_var_units(var_name)}\")"
   ]
  },
  {
   "cell_type": "markdown",
   "metadata": {},
   "source": [
    "Visualize the current temperature field."
   ]
  },
  {
   "cell_type": "code",
   "execution_count": null,
   "metadata": {
    "tags": []
   },
   "outputs": [],
   "source": [
    "plot_temperature(val.reshape(grid_shape), plate_size=m.get_attribute(\"plate-size\"))"
   ]
  },
  {
   "cell_type": "markdown",
   "metadata": {},
   "source": [
    "Diffusion!"
   ]
  },
  {
   "cell_type": "markdown",
   "metadata": {},
   "source": [
    "## Finalize the model"
   ]
  },
  {
   "cell_type": "markdown",
   "metadata": {},
   "source": [
    "Shut down the model when we're finished."
   ]
  },
  {
   "cell_type": "code",
   "execution_count": null,
   "metadata": {
    "tags": []
   },
   "outputs": [],
   "source": [
    "m.finalize()"
   ]
  }
 ],
 "metadata": {
  "kernelspec": {
   "display_name": "NetLogo",
   "language": "python",
   "name": "netlogo"
  },
  "language_info": {
   "codemirror_mode": {
    "name": "ipython",
    "version": 3
   },
   "file_extension": ".py",
   "mimetype": "text/x-python",
   "name": "python",
   "nbconvert_exporter": "python",
   "pygments_lexer": "ipython3",
   "version": "3.11.3"
  }
 },
 "nbformat": 4,
 "nbformat_minor": 4
}
