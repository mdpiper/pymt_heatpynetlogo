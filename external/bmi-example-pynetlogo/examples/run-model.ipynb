{
 "cells": [
  {
   "cell_type": "markdown",
   "metadata": {},
   "source": [
    "# Run the NetLogo`HeatDiffusion` model through pyNetLogo"
   ]
  },
  {
   "cell_type": "markdown",
   "metadata": {},
   "source": [
    "`HeatDiffusion` models the diffusion of temperature on a uniform rectangular plate with Dirichlet boundary conditions. View the [source code](https://github.com/csdms/bmi-example-pynetlogo/blob/main/heat/HeatDiffusion.nlogo) for the model on GitHub."
   ]
  },
  {
   "cell_type": "markdown",
   "metadata": {},
   "source": [
    "[NetLogo](https://ccl.northwestern.edu/netlogo/) is required to run this notebook.\n",
    "Once you've [downloaded and installed](https://ccl.northwestern.edu/netlogo/bind/article/getting-started-with-netlogo.html) NetLogo,\n",
    "set the path to the install location in the `NETLOGO_HOME` variable below.\n",
    "The current value of `NETLOGO_HOME` is where NetLogo is installed on the [EarthscapeHub](https://csdms.colorado.edu/wiki/JupyterHub) *lab* and *jupyter* Hubs."
   ]
  },
  {
   "cell_type": "code",
   "execution_count": null,
   "metadata": {
    "tags": []
   },
   "outputs": [],
   "source": [
    "NETLOGO_HOME = \"/opt/netlogo-6.1.1/\""
   ]
  },
  {
   "cell_type": "markdown",
   "metadata": {},
   "source": [
    "Import the Python libraries we'll use below."
   ]
  },
  {
   "cell_type": "code",
   "execution_count": null,
   "metadata": {
    "tags": []
   },
   "outputs": [],
   "source": [
    "import numpy as np\n",
    "import matplotlib.pyplot as plt\n",
    "import pynetlogo"
   ]
  },
  {
   "cell_type": "markdown",
   "metadata": {},
   "source": [
    "Start NetLogo in headless mode, using the `NETLOGO_HOME` variable."
   ]
  },
  {
   "cell_type": "code",
   "execution_count": null,
   "metadata": {
    "tags": []
   },
   "outputs": [],
   "source": [
    "netlogo = pynetlogo.NetLogoLink(netlogo_home=NETLOGO_HOME, gui=False)"
   ]
  },
  {
   "cell_type": "markdown",
   "metadata": {
    "tags": []
   },
   "source": [
    "Load the `HeatDiffusion` model.\n",
    "Call the *setup* command to initialize the model, using default values for all parameters."
   ]
  },
  {
   "cell_type": "code",
   "execution_count": null,
   "metadata": {
    "tags": []
   },
   "outputs": [],
   "source": [
    "netlogo.load_model(\"../heat/HeatDiffusion.nlogo\")\n",
    "netlogo.command(\"setup\")"
   ]
  },
  {
   "cell_type": "markdown",
   "metadata": {},
   "source": [
    "The `temperature` variable is the primary output of the `HeatDiffusion` model.\n",
    "It's defined on the [patches](https://ccl.northwestern.edu/netlogo/bind/primitive/patches.html) of the model.\n",
    "Patches in NetLogo are analogous to grid cells in a finite difference model.\n",
    "\n",
    "Get the initial temperature distribution on the plate."
   ]
  },
  {
   "cell_type": "code",
   "execution_count": null,
   "metadata": {
    "tags": []
   },
   "outputs": [],
   "source": [
    "temperature = netlogo.patch_report(\"temperature\")"
   ]
  },
  {
   "cell_type": "markdown",
   "metadata": {},
   "source": [
    "The plate temperature values are returned as a *pandas* `DataFrame`."
   ]
  },
  {
   "cell_type": "code",
   "execution_count": null,
   "metadata": {
    "tags": []
   },
   "outputs": [],
   "source": [
    "type(temperature)"
   ]
  },
  {
   "cell_type": "markdown",
   "metadata": {},
   "source": [
    "Show the values of the `temperature` variable."
   ]
  },
  {
   "cell_type": "code",
   "execution_count": null,
   "metadata": {
    "tags": []
   },
   "outputs": [],
   "source": [
    "temperature.values"
   ]
  },
  {
   "cell_type": "markdown",
   "metadata": {},
   "source": [
    "Try a naive visualization of the temperature values."
   ]
  },
  {
   "cell_type": "code",
   "execution_count": null,
   "metadata": {
    "tags": []
   },
   "outputs": [],
   "source": [
    "plt.imshow(temperature.values)"
   ]
  },
  {
   "cell_type": "markdown",
   "metadata": {},
   "source": [
    "What are we seeing here?\n",
    "Get some more information from the `HeatDiffusion` model."
   ]
  },
  {
   "cell_type": "markdown",
   "metadata": {},
   "source": [
    "Get the temperature values at the edges of the plate. These values are held constant with time."
   ]
  },
  {
   "cell_type": "code",
   "execution_count": null,
   "metadata": {
    "tags": []
   },
   "outputs": [],
   "source": [
    "temp_top = netlogo.report('top-temp')\n",
    "temp_bottom = netlogo.report('bottom-temp')\n",
    "temp_left = netlogo.report('left-temp')\n",
    "temp_right = netlogo.report('right-temp')\n",
    "edge_temp = [temp_top, temp_right, temp_bottom, temp_left]\n",
    "edge_temp"
   ]
  },
  {
   "cell_type": "markdown",
   "metadata": {},
   "source": [
    "What is the size of the plate?"
   ]
  },
  {
   "cell_type": "code",
   "execution_count": null,
   "metadata": {
    "tags": []
   },
   "outputs": [],
   "source": [
    "plate_size = netlogo.report(\"plate-size\")\n",
    "plate_size"
   ]
  },
  {
   "cell_type": "markdown",
   "metadata": {},
   "source": [
    "Given this information,\n",
    "and in studying the NetLogo code in `HeatDiffusion`,\n",
    "we can interpret the plot above.\n",
    "\n",
    "The model domain of the plate is centered at `[25,25]` in the plot,\n",
    "and extends 15 patches in each direction,\n",
    "so the plate--the model domain--extends from 10 to 40 in each direction.\n",
    "The edges, which buffer the plate temperature,\n",
    "extend an additional 10 patches in each direction.\n",
    "The warmest temperature is on the right, in yellow,\n",
    "and the coolest temperature is on the left, in blue.\n",
    "The corners are set to the mean of the two intersecting edge temperatures.\n",
    "The legend is stored on the left, outside of the model domain.\n",
    "\n",
    "So, a better plot is the 30 x 30 interior of the `temperature` variable.\n",
    "Import a helper function, *plot_temperature*, to do this.\n",
    "The *plot_temperature* function takes the temperature values as a NumPy array,\n",
    "as well as the plate size, which equates to the model domain.\n",
    "In the plot,\n",
    "I included one patch outside the model domain to show the initial edge temperatures."
   ]
  },
  {
   "cell_type": "code",
   "execution_count": null,
   "metadata": {
    "tags": []
   },
   "outputs": [],
   "source": [
    "from helpers import plot_temperature\n",
    "\n",
    "plot_temperature(temperature.values, plate_size)"
   ]
  },
  {
   "cell_type": "markdown",
   "metadata": {},
   "source": [
    "What value of thermal diffusivity is used by the model?\n",
    "From examination of the `HeatDiffusion` source,\n",
    "the units are $cm^2 s^{-1}$."
   ]
  },
  {
   "cell_type": "code",
   "execution_count": null,
   "metadata": {
    "tags": []
   },
   "outputs": [],
   "source": [
    "netlogo.report(\"heat-diffusivity\")"
   ]
  },
  {
   "cell_type": "markdown",
   "metadata": {},
   "source": [
    "What is the initial time in the model?"
   ]
  },
  {
   "cell_type": "code",
   "execution_count": null,
   "metadata": {
    "tags": []
   },
   "outputs": [],
   "source": [
    "dt = 0.1  # seconds, from model source\n",
    "netlogo.report(\"ticks\") * dt"
   ]
  },
  {
   "cell_type": "markdown",
   "metadata": {},
   "source": [
    "Run the model for 200 time steps (20 seconds of model time)."
   ]
  },
  {
   "cell_type": "code",
   "execution_count": null,
   "metadata": {
    "tags": []
   },
   "outputs": [],
   "source": [
    "netlogo.command('repeat 200 [go]')"
   ]
  },
  {
   "cell_type": "markdown",
   "metadata": {},
   "source": [
    "What is the current model time?"
   ]
  },
  {
   "cell_type": "code",
   "execution_count": null,
   "metadata": {
    "tags": []
   },
   "outputs": [],
   "source": [
    "netlogo.report(\"ticks\") * dt"
   ]
  },
  {
   "cell_type": "markdown",
   "metadata": {},
   "source": [
    "How has the temperature field has evolved?"
   ]
  },
  {
   "cell_type": "code",
   "execution_count": null,
   "metadata": {
    "tags": []
   },
   "outputs": [],
   "source": [
    "new_temperature = netlogo.patch_report(\"temperature\")\n",
    "plot_temperature(new_temperature.values, plate_size)"
   ]
  },
  {
   "cell_type": "markdown",
   "metadata": {},
   "source": [
    "Diffusion!"
   ]
  },
  {
   "cell_type": "markdown",
   "metadata": {},
   "source": [
    "Shut down the link to NetLogo when we're finished."
   ]
  },
  {
   "cell_type": "code",
   "execution_count": null,
   "metadata": {
    "tags": []
   },
   "outputs": [],
   "source": [
    "netlogo.kill_workspace()"
   ]
  }
 ],
 "metadata": {
  "kernelspec": {
   "display_name": "NetLogo",
   "language": "python",
   "name": "netlogo"
  },
  "language_info": {
   "codemirror_mode": {
    "name": "ipython",
    "version": 3
   },
   "file_extension": ".py",
   "mimetype": "text/x-python",
   "name": "python",
   "nbconvert_exporter": "python",
   "pygments_lexer": "ipython3",
   "version": "3.11.3"
  }
 },
 "nbformat": 4,
 "nbformat_minor": 4
}
